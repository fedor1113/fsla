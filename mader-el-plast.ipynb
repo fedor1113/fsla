{
 "cells": [
  {
   "cell_type": "markdown",
   "id": "f7a4d76c",
   "metadata": {},
   "source": [
    "# Mader model"
   ]
  },
  {
   "cell_type": "code",
   "execution_count": 47,
   "id": "9122cd83",
   "metadata": {},
   "outputs": [
    {
     "data": {
      "text/plain": [
       "((251,), (351,), (250, 350), (250, 350), (250,))"
      ]
     },
     "execution_count": 47,
     "metadata": {},
     "output_type": "execute_result"
    }
   ],
   "source": [
    "# Initial constants\n",
    "data = Dict(\n",
    "    \"xmin\" => 0.0, \n",
    "    \"xmax\" => 500.0e-9, \n",
    "    \"zmin\" => -700.0e-9, \n",
    "    \"zmax\" => 0,\n",
    "    \"nx\" => 250, \n",
    "    \"nz\" => 350)\n",
    "\n",
    "nx, nz = data[\"nx\"], data[\"nz\"]\n",
    "\n",
    "# Coordinates and velocities\n",
    "Δx = (data[\"xmax\"] - data[\"xmin\"])/data[\"nx\"]\n",
    "Δz = (data[\"zmax\"] - data[\"zmin\"])/data[\"nz\"]\n",
    "x = Vector(data[\"xmin\"]:Δx:data[\"xmax\"])\n",
    "z = Vector(data[\"zmin\"]:Δz:data[\"zmax\"])\n",
    "\n",
    "Ux = zeros(Float64, nx, nz)\n",
    "Uz = zeros(Float64, nx, nz)\n",
    "\n",
    "# State functions\n",
    "ax = zeros(Float64, nx, nz)\n",
    "az = zeros(Float64, nx, nz)\n",
    "\n",
    "V = zeros(Float64, nx, nz)\n",
    "P= zeros(Float64, nx, nz)\n",
    "\n",
    "function setics(data::Dict, x::Vector{Float64}, z::Vector{Float64}, V::Array{Float64, 2}, P::Array{Float64, 2}) \n",
    "    xmin, xmax = data[\"xmin\"], data[\"xmax\"]\n",
    "    zmin, zmax = data[\"zmin\"], data[\"zmax\"]\n",
    "    nx, nz = data[\"nx\"], data[\"nz\"]\n",
    "    \n",
    "    Δx = (xmax - xmin)/nx # m\n",
    "    Δz = (zmax - zmin)/nz # m\n",
    "    \n",
    "    ρ0 = 2413 # kg/m3\n",
    "    \n",
    "    p_cold, p_hot = 0.0, 35.6e9 # Pa\n",
    "    RL, dT = 200.e-9, 50.e-9 # m\n",
    "\n",
    "    for i=1:nx\n",
    "        for k=1:nz\n",
    "            V[i,k] = 1.0/ρ0\n",
    "            if x[i] + 0.5*Δx <= xmin + RL && z[k] + 0.5*Δz >= zmax - dT\n",
    "                P[i,k] = p_hot\n",
    "            else\n",
    "                P[i,k] = p_cold\n",
    "            end\n",
    "        end\n",
    "    end\n",
    "end\n",
    "\n",
    "    \n",
    "setics(data, x, z, V, P)\n",
    "\n",
    "# typeof(x), typeof(y), typeof(V), typeof(P)\n",
    "size(x), size(z), size(P), size(V), size(x[begin:end-1])"
   ]
  },
  {
   "cell_type": "code",
   "execution_count": 52,
   "id": "d2486596",
   "metadata": {},
   "outputs": [
    {
     "data": {
      "image/png": "[encoded data removed]",
      "text/plain": [
       "Figure(PyObject <Figure size 640x480 with 1 Axes>)"
      ]
     },
     "metadata": {},
     "output_type": "display_data"
    }
   ],
   "source": [
    "using PyPlot\n",
    "\n",
    "# using Plots; -- leaving it till I master GR()\n",
    "\n",
    "x_centers = [0.5*(x[i] + x[i+1]) for i in 1:length(x)-1]\n",
    "z_centers = [0.5*(z[k] + z[k+1]) for k in 1:length(z)-1]\n",
    "\n",
    "# we need to trenspose it, because in our mindset coords are (x, y) and\n",
    "# in matrices Universe -- (row, column), i.e. (y, x)\n",
    "\n",
    "contourf(x_centers, z_centers, transpose(P))\n",
    "\n",
    "PyPlot.show();\n",
    "\n"
   ]
  },
  {
   "cell_type": "code",
   "execution_count": null,
   "id": "26db0062",
   "metadata": {},
   "outputs": [],
   "source": [
    "\n"
   ]
  },
  {
   "cell_type": "markdown",
   "id": "f02eafb4",
   "metadata": {},
   "source": [
    "$$ \\sigma_X = P - S_{XX} $$\n",
    "$$ \\sigma_Z = P - S_{ZZ} $$\n"
   ]
  },
  {
   "cell_type": "code",
   "execution_count": 55,
   "id": "7d176526",
   "metadata": {},
   "outputs": [
    {
     "data": {
      "image/png": "[encoded data removed]",
      "text/plain": [
       "Figure(PyObject <Figure size 640x480 with 1 Axes>)"
      ]
     },
     "metadata": {},
     "output_type": "display_data"
    },
    {
     "data": {
      "text/plain": [
       "PyObject <matplotlib.contour.QuadContourSet object at 0x000001F6ECCE91B0>"
      ]
     },
     "execution_count": 55,
     "metadata": {},
     "output_type": "execute_result"
    }
   ],
   "source": [
    "\n",
    "x = Vector(1:0.1:10)\n",
    "y = Vector(1:0.1:10)\n",
    "f = [x[i] + y[j] for i in 1:length(x), j in 1:length(y)]\n",
    "contourf(x, y, f)"
   ]
  },
  {
   "cell_type": "code",
   "execution_count": 61,
   "id": "e94a5d4c",
   "metadata": {},
   "outputs": [
    {
     "data": {
      "text/plain": [
       "4×2 Matrix{Int64}:\n",
       " 2  3\n",
       " 3  4\n",
       " 4  5\n",
       " 5  6"
      ]
     },
     "execution_count": 61,
     "metadata": {},
     "output_type": "execute_result"
    }
   ],
   "source": [
    "A = [i+j for i in 1:4, j in 1:2]\n",
    "A"
   ]
  },
  {
   "cell_type": "code",
   "execution_count": 63,
   "id": "a962971e",
   "metadata": {},
   "outputs": [
    {
     "data": {
      "text/plain": [
       "5"
      ]
     },
     "execution_count": 63,
     "metadata": {},
     "output_type": "execute_result"
    }
   ],
   "source": [
    "A[3,2]"
   ]
  },
  {
   "cell_type": "code",
   "execution_count": 8,
   "id": "fbd34190",
   "metadata": {},
   "outputs": [
    {
     "ename": "LoadError",
     "evalue": "UndefVarError: `plots` not defined",
     "output_type": "error",
     "traceback": [
      "UndefVarError: `plots` not defined",
      "",
      "Stacktrace:",
      " [1] top-level scope",
      "   @ In[8]:1"
     ]
    }
   ],
   "source": [
    "plots(1:2) |> display"
   ]
  },
  {
   "cell_type": "code",
   "execution_count": null,
   "id": "9afe41fb",
   "metadata": {},
   "outputs": [],
   "source": []
  }
 ],
 "metadata": {
  "kernelspec": {
   "display_name": "Julia 1.9.2",
   "language": "julia",
   "name": "julia-1.9"
  },
  "language_info": {
   "file_extension": ".jl",
   "mimetype": "application/julia",
   "name": "julia",
   "version": "1.9.2"
  }
 },
 "nbformat": 4,
 "nbformat_minor": 5
}
